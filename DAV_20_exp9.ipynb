{
  "nbformat": 4,
  "nbformat_minor": 0,
  "metadata": {
    "colab": {
      "provenance": [],
      "include_colab_link": true
    },
    "kernelspec": {
      "name": "python3",
      "display_name": "Python 3"
    },
    "language_info": {
      "name": "python"
    }
  },
  "cells": [
    {
      "cell_type": "markdown",
      "metadata": {
        "id": "view-in-github",
        "colab_type": "text"
      },
      "source": [
        "<a href=\"https://colab.research.google.com/github/sahilcreator07/DAV-LAB/blob/main/DAV_20_exp9.ipynb\" target=\"_parent\"><img src=\"https://colab.research.google.com/assets/colab-badge.svg\" alt=\"Open In Colab\"/></a>"
      ]
    },
    {
      "cell_type": "markdown",
      "source": [
        "[Link to colab](https://colab.research.google.com/drive/1on3DCBpk9gOEBIemSCw6fIZTU22ihtbd)"
      ],
      "metadata": {
        "id": "RsCtGAoUwZKa"
      }
    },
    {
      "cell_type": "markdown",
      "source": [
        "## **Aim:** Create a World Map with d3.js"
      ],
      "metadata": {
        "id": "0i6stWwsoCM7"
      }
    },
    {
      "cell_type": "markdown",
      "source": [
        "1. **d3.select('#content canvas').node().getContext('2d')**:\n",
        "   - `d3.select('#content canvas'): This selects the `<canvas>` element with the ID \"content\".\n",
        "   - `.node()`: This method returns the DOM node associated with the selected element.\n",
        "   - `.getContext('2d')`: This method gets the 2D rendering context of the canvas, which allows drawing shapes, text, and images on the canvas.\n",
        "\n",
        "2. **d3.geoMercator().scale(120).translate([400, 350])**:\n",
        "   - `d3.geoMercator()`: This creates a new Mercator projection.\n",
        "   - `.scale(120)`: This sets the scale of the projection to 120. The scale determines the size of the map relative to the canvas.\n",
        "   - `.translate([400, 350])`: This sets the translation (or center) of the projection. It determines where the center of the map will be positioned on the canvas.\n",
        "\n",
        "3. **d3.geoPath().projection(projection).context(context)**:\n",
        "   - `d3.geoPath()`: This creates a new geographic path generator.\n",
        "   - `.projection(projection)`: This sets the projection used by the path generator. It specifies how geographic coordinates are translated into screen coordinates.\n",
        "   - `.context(context)`: This sets the rendering context for the path generator. In this case, it's the 2D rendering context of the canvas.\n",
        "\n",
        "4. **d3.json(url).then(function(json) { ... })**:\n",
        "   - `d3.json(url)`: This asynchronously loads JSON data from the specified URL.\n",
        "   - `.then(function(json) { ... })`: This method is called when the JSON data is successfully loaded. The loaded JSON data is passed to the provided callback function (`function(json) { ... }`) as an argument.\n",
        "\n",
        "5. **context.lineWidth = 0.7**: This sets the width of the lines that will be drawn on the canvas.\n",
        "\n",
        "6. **context.strokeStyle = '#333'**: This sets the color of the lines that will be drawn on the canvas.\n",
        "\n",
        "7. **context.beginPath()**: This begins a new path on the canvas. All subsequent drawing commands will be applied to this path until `context.stroke()` is called.\n",
        "\n",
        "8. **geoGenerator({ type: 'FeatureCollection', features: geojson.features })**: This generates the path for the features in the GeoJSON data using the geographic path generator (`geoGenerator`). The GeoJSON data is passed as an argument.\n"
      ],
      "metadata": {
        "id": "zjUv5mh7uPiF"
      }
    },
    {
      "cell_type": "code",
      "execution_count": 1,
      "metadata": {
        "colab": {
          "base_uri": "https://localhost:8080/",
          "height": 588
        },
        "id": "DR5b1zGNn-BL",
        "outputId": "3b8f723f-3713-4c02-80cb-40c7d3f6fe04"
      },
      "outputs": [
        {
          "output_type": "display_data",
          "data": {
            "text/plain": [
              "<IPython.core.display.HTML object>"
            ],
            "text/html": [
              "<!DOCTYPE html>\n",
              "<html lang=\"en\">\n",
              "<head>\n",
              "    <meta charset=\"UTF-8\">\n",
              "    <meta name=\"viewport\" content=\"width=device-width, initial-scale=1.0\">\n",
              "    <title>World Map</title>\n",
              "    <script src=\"https://d3js.org/d3.v5.min.js\"></script>\n",
              "</head>\n",
              "<body>\n",
              "\n",
              "<h2>World Map in D3</h2>\n",
              "<div id=\"content\">\n",
              "    <canvas width=\"1500\" height=\"500\"></canvas>\n",
              "</div>\n",
              "\n",
              "<script>\n",
              "    let geojson = {};\n",
              "\n",
              "    let context = d3.select('#content canvas').node().getContext('2d');\n",
              "\n",
              "    let projection = d3.geoMercator().scale(120).translate([400, 350]);\n",
              "\n",
              "    let geoGenerator = d3.geoPath()\n",
              "        .projection(projection)\n",
              "        .context(context);\n",
              "\n",
              "    function update() {\n",
              "        context.lineWidth = 0.7;\n",
              "        context.strokeStyle = '#333';\n",
              "        context.beginPath();\n",
              "        geoGenerator({ type: 'FeatureCollection', features: geojson.features });\n",
              "        context.stroke();\n",
              "\n",
              "    }\n",
              "\n",
              "    d3.json('https://gist.githubusercontent.com/d3indepth/f28e1c3a99ea6d84986f35ac8646fac7/raw/c58cede8dab4673c91a3db702d50f7447b373d98/ne_110m_land.json')\n",
              "        .then(function (json) {\n",
              "            geojson = json;\n",
              "            update();\n",
              "        });\n",
              "</script>\n",
              "</body>\n",
              "</html>\n"
            ]
          },
          "metadata": {}
        }
      ],
      "source": [
        "%%html\n",
        "<!DOCTYPE html>\n",
        "<html lang=\"en\">\n",
        "<head>\n",
        "    <meta charset=\"UTF-8\">\n",
        "    <meta name=\"viewport\" content=\"width=device-width, initial-scale=1.0\">\n",
        "    <title>World Map</title>\n",
        "    <script src=\"https://d3js.org/d3.v5.min.js\"></script>\n",
        "</head>\n",
        "<body>\n",
        "\n",
        "<h2>World Map in D3</h2>\n",
        "<div id=\"content\">\n",
        "    <canvas width=\"1500\" height=\"500\"></canvas>\n",
        "</div>\n",
        "\n",
        "<script>\n",
        "    let geojson = {};\n",
        "\n",
        "    let context = d3.select('#content canvas').node().getContext('2d');\n",
        "\n",
        "    let projection = d3.geoMercator().scale(120).translate([400, 350]);\n",
        "\n",
        "    let geoGenerator = d3.geoPath()\n",
        "        .projection(projection)\n",
        "        .context(context);\n",
        "\n",
        "    function update() {\n",
        "        context.lineWidth = 0.7;\n",
        "        context.strokeStyle = '#333';\n",
        "        context.beginPath();\n",
        "        geoGenerator({ type: 'FeatureCollection', features: geojson.features });\n",
        "        context.stroke();\n",
        "\n",
        "    }\n",
        "\n",
        "    d3.json('https://gist.githubusercontent.com/d3indepth/f28e1c3a99ea6d84986f35ac8646fac7/raw/c58cede8dab4673c91a3db702d50f7447b373d98/ne_110m_land.json')\n",
        "        .then(function (json) {\n",
        "            geojson = json;\n",
        "            update();\n",
        "        });\n",
        "</script>\n",
        "</body>\n",
        "</html>"
      ]
    },
    {
      "cell_type": "markdown",
      "source": [
        "## **Conclusion:** Successfully implemented World Map in D3.js"
      ],
      "metadata": {
        "id": "hORZw_vAulPl"
      }
    }
  ]
}